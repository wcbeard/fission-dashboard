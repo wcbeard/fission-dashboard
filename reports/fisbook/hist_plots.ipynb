{
 "cells": [
  {
   "cell_type": "markdown",
   "metadata": {},
   "source": [
    "This notebook (\"\") tries to download all recent experiments via dbx"
   ]
  },
  {
   "cell_type": "code",
   "execution_count": 1,
   "metadata": {},
   "outputs": [
    {
     "data": {
      "text/plain": [
       "11"
      ]
     },
     "execution_count": 1,
     "metadata": {},
     "output_type": "execute_result"
    }
   ],
   "source": [
    "from boot_utes import add_path, path, reload, run_magics\n",
    "add_path(\n",
    "    \"..\", \"/Users/wbeard/repos/fis/fis/\", \"/Users/wbeard/repos/fis/\", \"~/repos/myutils/\",\n",
    ")\n",
    "add_path(\"/Users/wbeard/repos/dscontrib-moz/src/\")"
   ]
  },
  {
   "cell_type": "code",
   "execution_count": 2,
   "metadata": {
    "lines_to_next_cell": 0
   },
   "outputs": [
    {
     "name": "stdout",
     "output_type": "stream",
     "text": [
      "['/Users/wbeard/repos/dscontrib-moz/src', '/Users/wbeard/repos/myutils', '/Users/wbeard/repos/fis/fis', '/Users/wbeard/repos/fis', '', '/Users/wbeard/miniconda3/envs/fis/lib/python37.zip', '/Users/wbeard/miniconda3/envs/fis/lib/python3.7', '/Users/wbeard/miniconda3/envs/fis/lib/python3.7/lib-dynload', '/Users/wbeard/miniconda3/envs/fis/lib/python3.7/site-packages', '/Users/wbeard/miniconda3/envs/fis/lib/python3.7/site-packages/IPython/extensions', '/Users/wbeard/.ipython']\n",
      "Automatic calling is: Smart\n"
     ]
    }
   ],
   "source": [
    "from matplotlib import MatplotlibDeprecationWarning\n",
    "\n",
    "import sys\n",
    "print(sys.path)\n",
    "\n",
    "# import ipdb; ipdb.set_trace();\n",
    "import dscontrib.wbeard as dwb\n",
    "from utils.fis_imps import *\n",
    "\n",
    "exec(pu.DFCols_str)\n",
    "exec(pu.qexpr_str)\n",
    "run_magics()\n",
    "# import utils.en_utils as eu; import data.load_data as ld; exec(eu.sort_dfs_str)\n",
    "\n",
    "mu.set_import_name(mu)\n",
    "sns.set_style(\"whitegrid\")\n",
    "S = Series\n",
    "D = DataFrame"
   ]
  },
  {
   "cell_type": "code",
   "execution_count": 3,
   "metadata": {},
   "outputs": [],
   "source": [
    "from numba import typed\n",
    "\n",
    "_hist_cols = [\n",
    "    \"unq_tabs\",\n",
    "    \"unq_sites_per_doc\",\n",
    "    \"cycle_collector_slice_during_idle\",\n",
    "    \"gc_slice_during_idle\",\n",
    "    \"cycle_collector\",\n",
    "    \"cycle_collector_max_pause\",\n",
    "    \"gc_max_pause_ms_2\",\n",
    "    \"gc_ms\",\n",
    "]\n",
    "\n",
    "# h_kw = {h: lambda df, h=h: df[h].map(arr_of_str2dict) for h in hist_cols}\n",
    "# df = df_.assign(**h_kw)"
   ]
  },
  {
   "cell_type": "code",
   "execution_count": null,
   "metadata": {},
   "outputs": [],
   "source": [
    "import utils.fis_utils as fu\n",
    "import utils.vis as vz\n",
    "\n",
    "import data.load_crap as lc\n",
    "import dscontrib.wbeard.altair_utils as aau\n",
    "\n",
    "aau.set_ds(A)\n",
    "\n",
    "DataFrame.pat = aau.pat"
   ]
  },
  {
   "cell_type": "code",
   "execution_count": null,
   "metadata": {},
   "outputs": [],
   "source": [
    "turtle = lambda: defaultdict(turtle)\n",
    "\n",
    "def fn_tuple(full_fn):\n",
    "    _loc, fn = os.path.split(full_fn)\n",
    "    locs = _loc.split('/')[2:]\n",
    "    return locs, fn\n",
    "\n",
    "\n",
    "def build_dir_dicts(dirs):\n",
    "    dirs = [\n",
    "        d.split('/')[2:-1]\n",
    "        for d in dirs\n",
    "    ]\n",
    "    base = fu.AttrDict()\n",
    "    for bc in base:\n",
    "        if not bc:\n",
    "            continue\n",
    "        \n",
    "    print(dirs)\n",
    "    \n",
    "    \n",
    "# dirs = glob('../fis/**/', recursive=True)\n",
    "# build_dir_dicts(dirs)\n",
    "\n",
    "\n",
    "# fns = sorted([\n",
    "#     fn_tuple(full_fn) + (full_fn,)\n",
    "#     for full_fn in glob('../fis/**', recursive=True)\n",
    "# ], key=lambda x: -len(x[0]))\n",
    "\n",
    "# fns"
   ]
  },
  {
   "cell_type": "markdown",
   "metadata": {},
   "source": [
    "# ETL"
   ]
  },
  {
   "cell_type": "code",
   "execution_count": 17,
   "metadata": {},
   "outputs": [],
   "source": [
    "from models import hist\n",
    "import data.load_agg_hists as loh\n",
    "from utils import bq"
   ]
  },
  {
   "cell_type": "code",
   "execution_count": 7,
   "metadata": {},
   "outputs": [],
   "source": [
    "list_of_docs_to_dict = lambda l: {d[\"key\"]: d[\"value\"] for d in l}"
   ]
  },
  {
   "cell_type": "code",
   "execution_count": 8,
   "metadata": {},
   "outputs": [
    {
     "name": "stderr",
     "output_type": "stream",
     "text": [
      "/Users/wbeard/miniconda3/envs/fis/lib/python3.7/site-packages/google/auth/_default.py:69: UserWarning: Your application has authenticated using end user credentials from Google Cloud SDK. We recommend that most server applications use service accounts instead. If your application continues to use end user credentials from Cloud SDK, you might receive a \"quota exceeded\" or \"API not enabled\" error. For more information about service accounts, see https://cloud.google.com/docs/authentication/\n",
      "WARNING:google.auth._default:No project ID could be determined. Consider running `gcloud config set project` or setting the GOOGLE_CLOUD_PROJECT environment variable\n"
     ]
    }
   ],
   "source": [
    "dfh2_ = bq.bq_query(loh.dl_agg_query())"
   ]
  },
  {
   "cell_type": "code",
   "execution_count": 9,
   "metadata": {},
   "outputs": [],
   "source": [
    "txf_fns = {\n",
    "    h: lambda df: df[h].map(list_of_docs_to_dict)\n",
    "    for h in loh.hist_cols\n",
    "}\n",
    "dfh2 = dfh2_.assign(**txf_fns).assign(date=lambda df: pd.to_datetime(df.date))"
   ]
  },
  {
   "cell_type": "markdown",
   "metadata": {},
   "source": [
    "# Plot Hists"
   ]
  },
  {
   "cell_type": "code",
   "execution_count": 10,
   "metadata": {},
   "outputs": [],
   "source": [
    "s = dfh2.unq_sites_per_doc\n",
    "h = s[0]"
   ]
  },
  {
   "cell_type": "code",
   "execution_count": 11,
   "metadata": {},
   "outputs": [],
   "source": [
    "\n",
    "# hist.est_statistic(h1.to_dict(), stat_fn=gmean)"
   ]
  },
  {
   "cell_type": "code",
   "execution_count": 12,
   "metadata": {},
   "outputs": [],
   "source": [
    "gmean = lambda x: sts.gmean(x + 1e-6)\n",
    "\n",
    "agg_gmean = partial(hist.est_statistic, n_hists=10_000, client_draws=10, stat_fn=gmean, ret_quantiles=[0.05, 0.5, 0.95])\n",
    "# agg_gmean = lru_cache()(agg_gmean)\n",
    "# hist.est_statistic(\n",
    "#     h, n_hists=10_000, client_draws=10, stat_fn=gmean, ret_quantiles=[0.05, 0.5, 0.95]\n",
    "# )\n",
    "\n"
   ]
  },
  {
   "cell_type": "code",
   "execution_count": 20,
   "metadata": {},
   "outputs": [
    {
     "data": {
      "text/html": [
       "\n",
       "<div id=\"altair-viz-e9d5a751122444748fccbbeceb56f88f\"></div>\n",
       "<script type=\"text/javascript\">\n",
       "  (function(spec, embedOpt){\n",
       "    let outputDiv = document.currentScript.previousElementSibling;\n",
       "    if (outputDiv.id !== \"altair-viz-e9d5a751122444748fccbbeceb56f88f\") {\n",
       "      outputDiv = document.getElementById(\"altair-viz-e9d5a751122444748fccbbeceb56f88f\");\n",
       "    }\n",
       "    const paths = {\n",
       "      \"vega\": \"https://cdn.jsdelivr.net/npm//vega@5?noext\",\n",
       "      \"vega-lib\": \"https://cdn.jsdelivr.net/npm//vega-lib?noext\",\n",
       "      \"vega-lite\": \"https://cdn.jsdelivr.net/npm//vega-lite@4.8.1?noext\",\n",
       "      \"vega-embed\": \"https://cdn.jsdelivr.net/npm//vega-embed@6?noext\",\n",
       "    };\n",
       "\n",
       "    function loadScript(lib) {\n",
       "      return new Promise(function(resolve, reject) {\n",
       "        var s = document.createElement('script');\n",
       "        s.src = paths[lib];\n",
       "        s.async = true;\n",
       "        s.onload = () => resolve(paths[lib]);\n",
       "        s.onerror = () => reject(`Error loading script: ${paths[lib]}`);\n",
       "        document.getElementsByTagName(\"head\")[0].appendChild(s);\n",
       "      });\n",
       "    }\n",
       "\n",
       "    function showError(err) {\n",
       "      outputDiv.innerHTML = `<div class=\"error\" style=\"color:red;\">${err}</div>`;\n",
       "      throw err;\n",
       "    }\n",
       "\n",
       "    function displayChart(vegaEmbed) {\n",
       "      vegaEmbed(outputDiv, spec, embedOpt)\n",
       "        .catch(err => showError(`Javascript Error: ${err.message}<br>This usually means there's a typo in your chart specification. See the javascript console for the full traceback.`));\n",
       "    }\n",
       "\n",
       "    if(typeof define === \"function\" && define.amd) {\n",
       "      requirejs.config({paths});\n",
       "      require([\"vega-embed\"], displayChart, err => showError(`Error loading script: ${err.message}`));\n",
       "    } else if (typeof vegaEmbed === \"function\") {\n",
       "      displayChart(vegaEmbed);\n",
       "    } else {\n",
       "      loadScript(\"vega\")\n",
       "        .then(() => loadScript(\"vega-lite\"))\n",
       "        .then(() => loadScript(\"vega-embed\"))\n",
       "        .catch(showError)\n",
       "        .then(() => displayChart(vegaEmbed));\n",
       "    }\n",
       "  })({\"config\": {\"view\": {\"continuousWidth\": 400, \"continuousHeight\": 300}}, \"data\": {\"name\": \"data-141a65cc4b9942b2824c8c8b99a633e9\"}, \"mark\": \"point\", \"encoding\": {\"tooltip\": [{\"type\": \"quantitative\", \"field\": \"x\"}, {\"type\": \"quantitative\", \"field\": \"x\"}], \"x\": {\"type\": \"quantitative\", \"field\": \"x\", \"title\": \"x\"}, \"y\": {\"type\": \"quantitative\", \"field\": \"x\", \"scale\": {\"zero\": false}, \"title\": \"x\"}}, \"selection\": {\"selector004\": {\"type\": \"interval\", \"bind\": \"scales\", \"encodings\": [\"x\", \"y\"]}}, \"$schema\": \"https://vega.github.io/schema/vega-lite/v4.8.1.json\", \"datasets\": {\"data-141a65cc4b9942b2824c8c8b99a633e9\": [{\"x\": 1}, {\"x\": 2}, {\"x\": 3}]}}, {\"mode\": \"vega-lite\"});\n",
       "</script>"
      ],
      "text/plain": [
       "alt.Chart(...)"
      ]
     },
     "execution_count": 20,
     "metadata": {},
     "output_type": "execute_result"
    }
   ],
   "source": [
    "df = DataFrame({'x': [1, 2, 3]})\n",
    "\n",
    "def _pl(pdf):\n",
    "    x = \"x\"\n",
    "    y = 'x'\n",
    "\n",
    "    h = (\n",
    "        A.Chart(pdf)\n",
    "        .mark_point()\n",
    "        .encode(\n",
    "            x=A.X(x, title=x),\n",
    "            y=A.Y(y, title=y, scale=A.Scale(zero=False)),\n",
    "            # color=color,\n",
    "            tooltip=[\n",
    "                # color,\n",
    "                x,\n",
    "                y,\n",
    "            ],\n",
    "        )\n",
    "    )\n",
    "\n",
    "    return h.interactive()\n",
    "\n",
    "A.data_transformers.enable('default')\n",
    "\n",
    "_pl(df)"
   ]
  },
  {
   "cell_type": "markdown",
   "metadata": {},
   "source": [
    "def cache_dict(f):\n",
    "    @lru_cache()\n",
    "    def tup_f(tup):\n",
    "        d = dict(tup)\n",
    "        return f(d)\n",
    "        \n",
    "    @wraps(f)\n",
    "    def dict_f(dict_arg):\n",
    "        tuple_arg = tuple(sorted(dict_arg.items()))\n",
    "        return tup_f(tuple_arg)\n",
    "        \n",
    "    return dict_f\n",
    "\n",
    "agg_gmean_cache = cache_dict(agg_gmean)"
   ]
  },
  {
   "cell_type": "markdown",
   "metadata": {},
   "source": [
    "agg_gmean_cache(h)"
   ]
  },
  {
   "cell_type": "markdown",
   "metadata": {},
   "source": [
    "def summarize_hist_df(df, hist_srs):\n",
    "    ps = [agg_gmean_cache(h) for h in hist_srs]\n",
    "    df = pd.concat([df[[\"date\", \"br\", \"n_cid\"]], DataFrame(ps)], axis=1)\n",
    "    return df\n",
    "\n",
    "\n",
    "hdf = summarize_hist_df(dfh2, s)"
   ]
  },
  {
   "cell_type": "markdown",
   "metadata": {},
   "source": [
    "# with A.data_transformers.enable('json'):\n",
    "#     A.Chart.save(hh, '../reports/figures/.png')\n",
    "\n",
    "# aau.set_json(A=A)\n",
    "\n",
    "# A.data_transformers.enable('json')\n",
    "A.data_transformers.enable('default')\n",
    "vz.plot_errb(hdf).properties(height=200, width=1400, title=s.name)"
   ]
  }
 ],
 "metadata": {
  "jupytext": {
   "formats": "ipynb,scripts//py:percent"
  },
  "kernelspec": {
   "display_name": "Python 3",
   "language": "python",
   "name": "python3"
  },
  "language_info": {
   "codemirror_mode": {
    "name": "ipython",
    "version": 3
   },
   "file_extension": ".py",
   "mimetype": "text/x-python",
   "name": "python",
   "nbconvert_exporter": "python",
   "pygments_lexer": "ipython3",
   "version": "3.7.6"
  },
  "toc-autonumbering": false,
  "toc-showcode": false,
  "toc-showmarkdowntxt": false,
  "toc-showtags": false
 },
 "nbformat": 4,
 "nbformat_minor": 4
}
